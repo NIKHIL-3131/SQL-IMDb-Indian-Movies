{
 "cells": [
  {
   "cell_type": "code",
   "execution_count": 1,
   "metadata": {},
   "outputs": [],
   "source": [
    "import pandas as pd\n",
    "import sqlite3"
   ]
  },
  {
   "cell_type": "code",
   "execution_count": 2,
   "metadata": {},
   "outputs": [],
   "source": [
    "conn = sqlite3.connect(\"Db-IMDB-Assignment.db\")"
   ]
  },
  {
   "cell_type": "code",
   "execution_count": 6,
   "metadata": {},
   "outputs": [
    {
     "name": "stdout",
     "output_type": "stream",
     "text": [
      "(37566, 4)\n"
     ]
    },
    {
     "data": {
      "text/html": [
       "<div>\n",
       "<style scoped>\n",
       "    .dataframe tbody tr th:only-of-type {\n",
       "        vertical-align: middle;\n",
       "    }\n",
       "\n",
       "    .dataframe tbody tr th {\n",
       "        vertical-align: top;\n",
       "    }\n",
       "\n",
       "    .dataframe thead th {\n",
       "        text-align: right;\n",
       "    }\n",
       "</style>\n",
       "<table border=\"1\" class=\"dataframe\">\n",
       "  <thead>\n",
       "    <tr style=\"text-align: right;\">\n",
       "      <th></th>\n",
       "      <th>index</th>\n",
       "      <th>PID</th>\n",
       "      <th>Name</th>\n",
       "      <th>Gender</th>\n",
       "    </tr>\n",
       "  </thead>\n",
       "  <tbody>\n",
       "    <tr>\n",
       "      <th>0</th>\n",
       "      <td>0</td>\n",
       "      <td>nm0000288</td>\n",
       "      <td>Christian Bale</td>\n",
       "      <td>Male</td>\n",
       "    </tr>\n",
       "    <tr>\n",
       "      <th>1</th>\n",
       "      <td>1</td>\n",
       "      <td>nm0000949</td>\n",
       "      <td>Cate Blanchett</td>\n",
       "      <td>Female</td>\n",
       "    </tr>\n",
       "    <tr>\n",
       "      <th>2</th>\n",
       "      <td>2</td>\n",
       "      <td>nm1212722</td>\n",
       "      <td>Benedict Cumberbatch</td>\n",
       "      <td>Male</td>\n",
       "    </tr>\n",
       "    <tr>\n",
       "      <th>3</th>\n",
       "      <td>3</td>\n",
       "      <td>nm0365140</td>\n",
       "      <td>Naomie Harris</td>\n",
       "      <td>Female</td>\n",
       "    </tr>\n",
       "    <tr>\n",
       "      <th>4</th>\n",
       "      <td>4</td>\n",
       "      <td>nm0785227</td>\n",
       "      <td>Andy Serkis</td>\n",
       "      <td>Male</td>\n",
       "    </tr>\n",
       "  </tbody>\n",
       "</table>\n",
       "</div>"
      ],
      "text/plain": [
       "   index        PID                   Name  Gender\n",
       "0      0  nm0000288         Christian Bale    Male\n",
       "1      1  nm0000949         Cate Blanchett  Female\n",
       "2      2  nm1212722   Benedict Cumberbatch    Male\n",
       "3      3  nm0365140          Naomie Harris  Female\n",
       "4      4  nm0785227            Andy Serkis    Male"
      ]
     },
     "execution_count": 6,
     "metadata": {},
     "output_type": "execute_result"
    }
   ],
   "source": [
    "query = \"\"\"\n",
    "        SELECT * FROM Person\n",
    "        \n",
    "        \"\"\"\n",
    "q = pd.read_sql_query(query,conn)\n",
    "print(q.shape)\n",
    "q.head()"
   ]
  },
  {
   "cell_type": "code",
   "execution_count": null,
   "metadata": {},
   "outputs": [],
   "source": [
    "#query2: List the names of all the actors who played in the movie 'Anand' (1971)"
   ]
  },
  {
   "cell_type": "code",
   "execution_count": 11,
   "metadata": {},
   "outputs": [
    {
     "name": "stdout",
     "output_type": "stream",
     "text": [
      "          Actor_Name\n",
      "0   Amitabh Bachchan\n",
      "1      Rajesh Khanna\n",
      "2      Sumita Sanyal\n",
      "3         Ramesh Deo\n",
      "4          Seema Deo\n",
      "5     Asit Kumar Sen\n",
      "6         Dev Kishan\n",
      "7       Atam Prakash\n",
      "8      Lalita Kumari\n",
      "9             Savita\n",
      "10    Brahm Bhardwaj\n",
      "11      Gurnam Singh\n",
      "12      Lalita Pawar\n",
      "13       Durga Khote\n",
      "14        Dara Singh\n",
      "15     Johnny Walker\n",
      "16         Moolchand\n"
     ]
    }
   ],
   "source": [
    "q2 =pd.read_sql_query(\"\"\"\n",
    "SELECT\n",
    " Distinct\n",
    " TRIM(P.Name) Actor_Name\n",
    "FROM\n",
    " Movie M\n",
    " JOIN M_Cast MC\n",
    " ON M.MID = MC.MID\n",
    " JOIN Person p\n",
    " ON Trim(MC.PID) = Trim(P.PID)\n",
    "WHERE\n",
    " M.title = 'Anand'\n",
    "\"\"\", conn)\n",
    "print(q2)"
   ]
  },
  {
   "cell_type": "code",
   "execution_count": null,
   "metadata": {},
   "outputs": [],
   "source": [
    "#query3:List all the actors who acted in a film before 1970 and in a film after 1990. (That is: < \n",
    "1970 and > 1990.)"
   ]
  },
  {
   "cell_type": "code",
   "execution_count": 10,
   "metadata": {},
   "outputs": [
    {
     "name": "stdout",
     "output_type": "stream",
     "text": [
      "           Actor_Name\n",
      "0        Rishi Kapoor\n",
      "1    Amitabh Bachchan\n",
      "2              Asrani\n",
      "3        Zohra Sehgal\n",
      "4     Parikshat Sahni\n",
      "..                ...\n",
      "295            Poonam\n",
      "296     Jamila Massey\n",
      "297       K.R. Vijaya\n",
      "298             Sethi\n",
      "299      Suryakantham\n",
      "\n",
      "[300 rows x 1 columns]\n"
     ]
    }
   ],
   "source": [
    "q3 = pd.read_sql_query(\"\"\"\n",
    "WITH\n",
    " ACTORS_BEFORE_1970 AS\n",
    " (\n",
    " SELECT\n",
    " DISTINCT\n",
    " TRIM(MC.PID) PID\n",
    " FROM\n",
    " Movie M\n",
    " JOIN M_Cast MC\n",
    " ON M.MID = MC.MID\n",
    " WHERE\n",
    " CAST(SUBSTR(M.year,-4) AS UNSIGNED) < 1970\n",
    " ),\n",
    " ACTORS_AFTER_1990 AS\n",
    " (\n",
    " SELECT\n",
    " DISTINCT\n",
    " TRIM(MC.PID) PID\n",
    " FROM\n",
    " Movie M\n",
    " JOIN M_Cast MC\n",
    " ON M.MID = MC.MID\n",
    " WHERE\n",
    " CAST(SUBSTR(M.year,-4) AS UNSIGNED) > 1990\n",
    " )\n",
    " SELECT\n",
    " DISTINCT\n",
    " TRIM(P.Name) Actor_Name\n",
    " FROM\n",
    " ACTORS_BEFORE_1970 A_1970\n",
    " JOIN ACTORS_AFTER_1990 A_1990\n",
    " ON A_1970.PID = A_1990.PID\n",
    " JOIN Person P\n",
    " ON A_1970.PID = TRIM(P.PID)\n",
    "\"\"\", conn)\n",
    "print(q3)\n"
   ]
  },
  {
   "cell_type": "code",
   "execution_count": null,
   "metadata": {},
   "outputs": [],
   "source": [
    "#query4:List all directors who directed 10 movies or more, in descending order of the number of movies they directed.Return the directors' names and the number of movies each of them directed"
   ]
  },
  {
   "cell_type": "code",
   "execution_count": 24,
   "metadata": {},
   "outputs": [
    {
     "name": "stdout",
     "output_type": "stream",
     "text": [
      "               DIRECTOR_NAME  Number_Of_Movies_Directed\n",
      "0               David Dhawan                         39\n",
      "1               Mahesh Bhatt                         35\n",
      "2               Priyadarshan                         30\n",
      "3            Ram Gopal Varma                         30\n",
      "4               Vikram Bhatt                         29\n",
      "5       Hrishikesh Mukherjee                         27\n",
      "6                Yash Chopra                         21\n",
      "7            Basu Chatterjee                         19\n",
      "8             Shakti Samanta                         19\n",
      "9               Subhash Ghai                         18\n",
      "10             Shyam Benegal                         17\n",
      "11  Abbas Alibhai Burmawalla                         17\n",
      "12         Rama Rao Tatineni                         17\n",
      "13            Manmohan Desai                         16\n",
      "14                    Gulzar                         16\n",
      "15              Raj N. Sippy                         16\n",
      "16                Raj Kanwar                         15\n",
      "17          Mahesh Manjrekar                         15\n",
      "18               Indra Kumar                         14\n",
      "19                Raj Khosla                         14\n",
      "20              Rahul Rawail                         14\n",
      "21         Rajkumar Santoshi                         14\n",
      "22             Rakesh Roshan                         13\n",
      "23                 Dev Anand                         13\n",
      "24               Vijay Anand                         13\n",
      "25              Harry Baweja                         13\n",
      "26            Anurag Kashyap                         13\n",
      "27  Ananth Narayan Mahadevan                         13\n",
      "28        K. Raghavendra Rao                         13\n",
      "29              Anees Bazmee                         12\n",
      "30              Guddu Dhanoa                         12\n",
      "31               Prakash Jha                         12\n",
      "32            Satish Kaushik                         12\n",
      "33           Nagesh Kukunoor                         12\n",
      "34             Prakash Mehra                         12\n",
      "35               Umesh Mehra                         12\n",
      "36               Anil Sharma                         12\n",
      "37         Madhur Bhandarkar                         12\n",
      "38              Rohit Shetty                         12\n",
      "39        Pramod Chakravorty                         11\n",
      "40              Sanjay Gupta                         11\n",
      "41             Nasir Hussain                         11\n",
      "42               Ketan Mehta                         11\n",
      "43           Govind Nihalani                         11\n",
      "44                Mohit Suri                         11\n",
      "45                Raj Kapoor                         10\n",
      "46                K. Bapaiah                         10\n",
      "47           Vishal Bhardwaj                         10\n",
      "48                N. Chandra                         10\n",
      "49          Tigmanshu Dhulia                         10\n",
      "50                J.P. Dutta                         10\n",
      "51               Mehul Kumar                         10\n",
      "52              Hansal Mehta                         10\n",
      "53             Sudhir Mishra                         10\n",
      "54       K. Muralimohana Rao                         10\n",
      "55           Pankaj Parashar                         10\n",
      "56             J. Om Prakash                         10\n",
      "57                 Bimal Roy                         10\n"
     ]
    }
   ],
   "source": [
    "q4 = pd.read_sql_query(\"\"\"\n",
    "SELECT\n",
    " DISTINCT\n",
    " TRIM(P.NAME) DIRECTOR_NAME,\n",
    " Num.Number_Of_Movies_Directed\n",
    "FROM\n",
    " (SELECT \n",
    " PID,\n",
    " COUNT(MID) Number_Of_Movies_Directed\n",
    " FROM\n",
    " M_Director\n",
    " GROUP BY\n",
    " PID\n",
    " HAVING\n",
    " Number_Of_Movies_Directed>= 10\n",
    " ) Num\n",
    " JOIN PERSON P\n",
    " ON TRIM(Num.PID) = TRIM(P.PID)\n",
    "ORDER BY \n",
    " Num.Number_Of_Movies_Directed DESC\n",
    "\"\"\", conn)\n",
    "print(q4)"
   ]
  },
  {
   "cell_type": "code",
   "execution_count": null,
   "metadata": {},
   "outputs": [],
   "source": [
    "#query6:Find the film(s) with the largest cast. Return the movie title and the size of the cast."
   ]
  },
  {
   "cell_type": "code",
   "execution_count": 26,
   "metadata": {},
   "outputs": [
    {
     "name": "stdout",
     "output_type": "stream",
     "text": [
      "         MID          title  Num_Of_Person\n",
      "0  tt5164214  Ocean's Eight            238\n"
     ]
    }
   ],
   "source": [
    "q6=pd.read_sql_query(\"\"\"\n",
    "WITH\n",
    " Cast AS\n",
    " (\n",
    " SELECT\n",
    " TRIM(MID) MID,\n",
    " COUNT(DISTINCT TRIM(PID)) Num_Of_Person\n",
    " FROM\n",
    " M_Cast\n",
    " GROUP BY \n",
    " TRIM(MID) \n",
    " )\n",
    " SELECT\n",
    " M.MID,\n",
    " M.title,\n",
    " C.Num_Of_Person\n",
    " FROM\n",
    " Cast C\n",
    " JOIN Movie M\n",
    " ON C.MID = TRIM(M.MID)\n",
    " WHERE\n",
    " C.Num_Of_Person= (\n",
    " SELECT\n",
    " MAX(Num_Of_Person)\n",
    "     FROM\n",
    " Cast\n",
    " )\n",
    "\"\"\", conn)\n",
    "print(q6)"
   ]
  },
  {
   "cell_type": "code",
   "execution_count": null,
   "metadata": {},
   "outputs": [],
   "source": [
    "#query1: List all the directors who directed a 'Comedy' movie in a leap year. (You need to check that the genre is 'Comedy’ and year is a leap year) Your query should return director name, the movie name, and the year"
   ]
  },
  {
   "cell_type": "code",
   "execution_count": 22,
   "metadata": {},
   "outputs": [
    {
     "name": "stdout",
     "output_type": "stream",
     "text": [
      "            Director_Name                        Movie_Name  year\n",
      "0         Pankaj Parashar                    Ab Ayega Mazaa  1984\n",
      "1            Kawal Sharma                         Maalamaal  1988\n",
      "2            Jabbar Patel                  Ek Hota Vidushak  1992\n",
      "3            Mahesh Bhatt                   Papa Kahte Hain  1996\n",
      "4               Bhagyaraj                       Mr. Bechara  1996\n",
      "5                  Sachin              Navra Mazha Navsacha  2004\n",
      "6            Govind Menon                 Kis Kis Ki Kismat  2004\n",
      "7   Siddharth Anand Kumar                       Let's Enjoy  2004\n",
      "8             Raj Kaushal                  Shaadi Ka Laddoo  2004\n",
      "9       Srinivas Bhashyam                      Paisa Vasool  2004\n",
      "10     Jagdish Rajpurohit                            Bumboo  2012\n",
      "11           Anand Balraj          Daal Mein Kuch Kaala Hai  2012\n",
      "12           Karan Razdan               Mr Bhatti on Chutti  2012\n",
      "13         Rajnish Thakur  Mere Dost Picture Abhi Baaki Hai  2012\n",
      "14       Vickrant Mahajan                     Challo Driver  2012\n",
      "15           Rakesh Mehta              Life Ki Toh Lag Gayi  2012\n",
      "16           Nitin Kakkar                        Filmistaan  2012\n",
      "17          Sameer Sharma      Luv Shuv Tey Chicken Khurana  2012\n",
      "18            Aditya Datt                 Will You Marry Me  2012\n",
      "19           Sachin Yardi          Kyaa Super Kool Hain Hum  2012\n",
      "20        Abhishek Sharma     Tere Bin Laden: Dead Or Alive  2016\n",
      "21           Umesh Ghadge              Kyaa Kool Hain Hum 3  2016\n",
      "22           Milap Zaveri                        Mastizaade  2016\n",
      "23         Sanjeev Sharma                     Saat Uchakkey  2016\n",
      "24      Krishnadev Yagnik                    Days of Tafree  2016\n",
      "25            Suhas Kadav         Motu Patlu: King of Kings  2016\n"
     ]
    }
   ],
   "source": [
    " q1=pd.read_sql_query(\"\"\"\n",
    "WITH\n",
    " Comedy_Movies AS\n",
    " (\n",
    " SELECT\n",
    " -- COUNT(*) 107\n",
    " MG.MID\n",
    " FROM\n",
    " GENRE G\n",
    " JOIN M_GENRE MG\n",
    " ON G.GID = MG.GID\n",
    " WHERE\n",
    " TRIM(G.Name) = 'Comedy'\n",
    " ),\n",
    " Comedy_Movies_In_Leap_Year AS\n",
    " (\n",
    " SELECT\n",
    " M.MID,\n",
    " M.title,\n",
    " CAST(SUBSTR(M.year,-4) AS UNSIGNED) year\n",
    " FROM\n",
    " Comedy_Movies CM\n",
    " JOIN Movie M\n",
    " ON CM.MID = M.MID\n",
    " WHERE\n",
    " (CAST(SUBSTR(M.year,-4) AS UNSIGNED) %4 = 0 )\n",
    " )\n",
    " SELECT\n",
    " DISTINCT\n",
    " TRIM(P.Name) Director_Name,\n",
    " CM.title Movie_Name,\n",
    " CM.year\n",
    " FROM\n",
    " Comedy_Movies_In_Leap_Year CM\n",
    " JOIN M_Director MD\n",
    " ON CM.MID = MD.MID\n",
    " JOIN Person P\n",
    " ON TRIM(MD.PID) = TRIM(P.PID)\n",
    " ORDER BY \n",
    " year\n",
    "\"\"\", conn)\n",
    "print(q1)"
   ]
  },
  {
   "cell_type": "code",
   "execution_count": null,
   "metadata": {},
   "outputs": [],
   "source": [
    "#query5:"
   ]
  },
  {
   "cell_type": "code",
   "execution_count": 29,
   "metadata": {},
   "outputs": [
    {
     "name": "stdout",
     "output_type": "stream",
     "text": [
      "   year  NUM_OF_MOV_WITH_ONLY_FEMALES\n",
      "0  1939                             1\n",
      "1  1999                             1\n",
      "2  2000                             1\n",
      "3  2009                             1\n",
      "4  2012                             1\n",
      "5  2018                             2\n"
     ]
    }
   ],
   "source": [
    "q5 = pd.read_sql_query(\"\"\"\n",
    "WITH\n",
    " MOVIES_WITH_NON_FEMALES AS\n",
    " (\n",
    " SELECT\n",
    " DISTINCT\n",
    " TRIM(MC.MID) MID\n",
    " FROM\n",
    " M_Cast MC\n",
    " JOIN Person P\n",
    " ON TRIM(MC.PID) = TRIM(P.PID)\n",
    " WHERE\n",
    " TRIM(P.Gender) IN ('Male','None') -- Considering None as not female.\n",
    " )\n",
    " SELECT\n",
    " CAST(SUBSTR(M.year,-4) AS UNSIGNED) year,\n",
    " COUNT(DISTINCT TRIM(MID) ) NUM_OF_MOV_WITH_ONLY_FEMALES\n",
    " FROM\n",
    " Movie M\n",
    " WHERE\n",
    " TRIM(MID) NOT IN (SELECT MID FROM MOVIES_WITH_NON_FEMALES)\n",
    " GROUP BY \n",
    " CAST(SUBSTR(M.year,-4) AS UNSIGNED)\n",
    " ORDER BY\n",
    " year\n",
    "\"\"\", conn)\n",
    "print(q5)\n"
   ]
  },
  {
   "cell_type": "code",
   "execution_count": null,
   "metadata": {},
   "outputs": [],
   "source": []
  }
 ],
 "metadata": {
  "kernelspec": {
   "display_name": "Python 3",
   "language": "python",
   "name": "python3"
  },
  "language_info": {
   "codemirror_mode": {
    "name": "ipython",
    "version": 3
   },
   "file_extension": ".py",
   "mimetype": "text/x-python",
   "name": "python",
   "nbconvert_exporter": "python",
   "pygments_lexer": "ipython3",
   "version": "3.8.3"
  }
 },
 "nbformat": 4,
 "nbformat_minor": 4
}
